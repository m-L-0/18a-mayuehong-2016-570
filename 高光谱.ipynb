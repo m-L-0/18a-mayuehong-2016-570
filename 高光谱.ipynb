{
 "cells": [
  {
   "cell_type": "code",
   "execution_count": 21,
   "metadata": {},
   "outputs": [],
   "source": [
    "import scipy.io as scio\n",
    "import numpy as np\n",
    "from sklearn.cross_validation import train_test_split"
   ]
  },
  {
   "cell_type": "code",
   "execution_count": 22,
   "metadata": {},
   "outputs": [],
   "source": [
    "data1=scio.loadmat('F:/9-train/data2_train.mat')\n",
    "data2=scio.loadmat('F:/9-train/data3_train.mat')\n",
    "data3=scio.loadmat('F:/9-train/data5_train.mat')\n",
    "data4=scio.loadmat('F:/9-train/data6_train.mat')\n",
    "data5=scio.loadmat('F:/9-train/data8_train.mat')\n",
    "data6=scio.loadmat('F:/9-train/data10_train.mat')\n",
    "data7=scio.loadmat('F:/9-train/data11_train.mat')\n",
    "data8=scio.loadmat('F:/9-train/data12_train.mat')\n",
    "data9=scio.loadmat('F:/9-train/data14_train.mat')\n",
    "a=data1['data2_train']\n",
    "b=data2['data3_train']\n",
    "c=data3['data5_train']\n",
    "d=data4['data6_train']\n",
    "e=data5['data8_train']\n",
    "f=data6['data10_train']\n",
    "g=data7['data11_train']\n",
    "h=data8['data12_train']\n",
    "k=data9['data14_train']\n",
    "\n",
    "#数据集\n",
    "data=np.concatenate((a,b,c,d,e,f,g,h,k),axis=0)"
   ]
  },
  {
   "cell_type": "code",
   "execution_count": 23,
   "metadata": {},
   "outputs": [],
   "source": [
    "#测试集\n",
    "test1=scio.loadmat('F:/data_test_final.mat')\n",
    "test=test1['data_test_final']"
   ]
  },
  {
   "cell_type": "code",
   "execution_count": 24,
   "metadata": {},
   "outputs": [],
   "source": [
    "#标签\n",
    "target=np.zeros(shape=(data.shape[0],1))\n",
    "n1=a.shape[0]\n",
    "n2=b.shape[0]+n1\n",
    "n3=c.shape[0]+n2\n",
    "n4=d.shape[0]+n3\n",
    "n5=e.shape[0]+n4\n",
    "n6=f.shape[0]+n5\n",
    "n7=g.shape[0]+n6\n",
    "n8=h.shape[0]+n7\n",
    "n9=k.shape[0]+n8\n",
    "for i in range(n1):\n",
    "    target[i]=2\n",
    "for i in range(n1,n2):\n",
    "    target[i]=3\n",
    "for i in range(n2,n3):\n",
    "    target[i]=5\n",
    "for i in range(n3,n4):\n",
    "    target[i]=6\n",
    "for i in range(n4,n5):\n",
    "    target[i]=8\n",
    "for i in range(n5,n6):\n",
    "    target[i]=10\n",
    "for i in range(n6,n7):\n",
    "    target[i]=11\n",
    "for i in range(n7,n8):\n",
    "    target[i]=12\n",
    "for i in range(n8,n9):\n",
    "    target[i]=14"
   ]
  },
  {
   "cell_type": "code",
   "execution_count": 25,
   "metadata": {},
   "outputs": [],
   "source": [
    "x_train,x_test,y_train,y_test=train_test_split(data,target,test_size=0.2)"
   ]
  },
  {
   "cell_type": "code",
   "execution_count": 26,
   "metadata": {},
   "outputs": [],
   "source": [
    "from sklearn.neighbors import KNeighborsClassifier"
   ]
  },
  {
   "cell_type": "code",
   "execution_count": 34,
   "metadata": {},
   "outputs": [
    {
     "name": "stderr",
     "output_type": "stream",
     "text": [
      "C:\\Users\\123\\Anaconda3\\lib\\site-packages\\ipykernel_launcher.py:2: DataConversionWarning: A column-vector y was passed when a 1d array was expected. Please change the shape of y to (n_samples, ), for example using ravel().\n",
      "  \n"
     ]
    },
    {
     "name": "stdout",
     "output_type": "stream",
     "text": [
      "0.8173285198555956\n"
     ]
    }
   ],
   "source": [
    "clf=KNeighborsClassifier(n_neighbors=17)#n_neighbors从3,5,7……19 19的正确率小于17\n",
    "clf.fit(x_train,y_train)\n",
    "print(clf.score(x_test,y_test))\n",
    "p=clf.predict(test)"
   ]
  },
  {
   "cell_type": "code",
   "execution_count": null,
   "metadata": {},
   "outputs": [],
   "source": []
  },
  {
   "cell_type": "code",
   "execution_count": null,
   "metadata": {},
   "outputs": [],
   "source": []
  },
  {
   "cell_type": "code",
   "execution_count": null,
   "metadata": {},
   "outputs": [],
   "source": []
  },
  {
   "cell_type": "code",
   "execution_count": null,
   "metadata": {},
   "outputs": [],
   "source": []
  },
  {
   "cell_type": "code",
   "execution_count": null,
   "metadata": {},
   "outputs": [],
   "source": []
  },
  {
   "cell_type": "code",
   "execution_count": null,
   "metadata": {},
   "outputs": [],
   "source": []
  },
  {
   "cell_type": "code",
   "execution_count": null,
   "metadata": {},
   "outputs": [],
   "source": []
  },
  {
   "cell_type": "code",
   "execution_count": null,
   "metadata": {},
   "outputs": [],
   "source": []
  },
  {
   "cell_type": "code",
   "execution_count": null,
   "metadata": {},
   "outputs": [],
   "source": []
  },
  {
   "cell_type": "code",
   "execution_count": null,
   "metadata": {},
   "outputs": [],
   "source": []
  },
  {
   "cell_type": "code",
   "execution_count": null,
   "metadata": {},
   "outputs": [],
   "source": []
  }
 ],
 "metadata": {
  "kernelspec": {
   "display_name": "Python 3",
   "language": "python",
   "name": "python3"
  },
  "language_info": {
   "codemirror_mode": {
    "name": "ipython",
    "version": 3
   },
   "file_extension": ".py",
   "mimetype": "text/x-python",
   "name": "python",
   "nbconvert_exporter": "python",
   "pygments_lexer": "ipython3",
   "version": "3.6.5"
  }
 },
 "nbformat": 4,
 "nbformat_minor": 2
}
