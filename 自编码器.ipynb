{
 "cells": [
  {
   "cell_type": "code",
   "execution_count": 4,
   "metadata": {},
   "outputs": [],
   "source": [
    "%matplotlib inline\n",
    "import numpy as np\n",
    "from PIL import Image\n",
    "from matplotlib import pyplot as plt\n",
    "import tensorflow as tf\n",
    "from tensorflow.examples.tutorials.mnist import input_data"
   ]
  },
  {
   "cell_type": "code",
   "execution_count": 6,
   "metadata": {},
   "outputs": [
    {
     "name": "stdout",
     "output_type": "stream",
     "text": [
      "Extracting f:/MNIST_data\\train-images-idx3-ubyte.gz\n",
      "Extracting f:/MNIST_data\\train-labels-idx1-ubyte.gz\n",
      "Extracting f:/MNIST_data\\t10k-images-idx3-ubyte.gz\n",
      "Extracting f:/MNIST_data\\t10k-labels-idx1-ubyte.gz\n"
     ]
    }
   ],
   "source": [
    "mnist=input_data.read_data_sets('f:/MNIST_data',one_hot=True)"
   ]
  },
  {
   "cell_type": "code",
   "execution_count": 19,
   "metadata": {},
   "outputs": [
    {
     "name": "stdout",
     "output_type": "stream",
     "text": [
      "0.23166412\n",
      "0.22877395\n",
      "0.22467029\n",
      "0.21363191\n",
      "0.18836817\n",
      "0.1536602\n",
      "0.1153128\n",
      "0.09676559\n",
      "0.08457881\n",
      "0.082319595\n",
      "0.0774815\n",
      "0.07604948\n",
      "0.07058715\n",
      "0.06919041\n",
      "0.07014134\n",
      "0.06918391\n",
      "0.07310949\n",
      "0.071425214\n",
      "0.06412324\n",
      "0.06470436\n"
     ]
    }
   ],
   "source": [
    "with tf.Graph().as_default() as g:\n",
    "    inp_out=tf.placeholder(shape=[None,784],dtype=tf.float32)\n",
    "    h=tf.keras.layers.Dense(32,activation=tf.nn.relu)(inp_out)\n",
    "    out=tf.keras.layers.Dense(784,activation=tf.nn.sigmoid)(h)\n",
    "    loss=tf.reduce_mean(tf.keras.losses.mean_squared_error(inp_out,out))\n",
    "with tf.Session(graph=g) as sess:\n",
    "    optim=tf.train.GradientDescentOptimizer(learning_rate=0.03)\n",
    "    train_op=optim.minimize(loss)\n",
    "    sess.run(tf.global_variables_initializer())\n",
    "    for step in range(10000):\n",
    "        batch_images,_=mnist.train.next_batch(16)\n",
    "        res_loss,_=sess.run([loss,train_op],feed_dict={\n",
    "            inp_out:batch_images\n",
    "        })\n",
    "        if step%500==0:\n",
    "            \n",
    "            for test_step in range(1000//16):\n",
    "                batch_images,batch_lables=mnist.test.next_batch(16)\n",
    "            print(res_loss)"
   ]
  },
  {
   "cell_type": "code",
   "execution_count": null,
   "metadata": {},
   "outputs": [],
   "source": []
  }
 ],
 "metadata": {
  "kernelspec": {
   "display_name": "Python 3",
   "language": "python",
   "name": "python3"
  },
  "language_info": {
   "codemirror_mode": {
    "name": "ipython",
    "version": 3
   },
   "file_extension": ".py",
   "mimetype": "text/x-python",
   "name": "python",
   "nbconvert_exporter": "python",
   "pygments_lexer": "ipython3",
   "version": "3.6.5"
  }
 },
 "nbformat": 4,
 "nbformat_minor": 2
}
