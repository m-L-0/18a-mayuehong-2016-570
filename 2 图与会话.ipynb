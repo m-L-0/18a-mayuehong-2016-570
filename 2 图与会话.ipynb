{
 "cells": [
  {
   "cell_type": "code",
   "execution_count": 11,
   "metadata": {},
   "outputs": [],
   "source": [
    "import tensorflow as tf"
   ]
  },
  {
   "cell_type": "code",
   "execution_count": 12,
   "metadata": {},
   "outputs": [],
   "source": [
    "g=tf.Graph()\n",
    "with g.as_default():\n",
    "    op=tf.add(3,5)\n",
    "    with tf.Session() as sess:\n",
    "        sess.run(op)\n",
    "    with tf.Session() as sess:\n",
    "        sess.run(tf.add(3,5))"
   ]
  },
  {
   "cell_type": "code",
   "execution_count": 13,
   "metadata": {},
   "outputs": [
    {
     "name": "stdout",
     "output_type": "stream",
     "text": [
      "8\n",
      "1\n",
      "10\n",
      "2.0\n",
      "2\n",
      "8\n",
      "[ 9 36]\n",
      "3.0\n"
     ]
    }
   ],
   "source": [
    "op1=tf.add(3,5)#加法\n",
    "op2=tf.subtract(3,2)#减法\n",
    "op3=tf.multiply(2,5)#乘法\n",
    "op4=tf.divide(tf.constant(6),tf.constant(3))#除法\n",
    "op5=tf.mod(2,3)#取模\n",
    "op6=tf.pow(2,3)#幂次方\n",
    "op7=tf.square([3,6])#平方和\n",
    "op8=tf.sqrt(9.)#开根号\n",
    "with tf.Session() as sess:\n",
    "    print(sess.run(op1))\n",
    "    print(sess.run(op2))\n",
    "    print(sess.run(op3))\n",
    "    print(sess.run(op4))\n",
    "    print(sess.run(op5))\n",
    "    print(sess.run(op6))\n",
    "    print(sess.run(op7))\n",
    "    print(sess.run(op8))"
   ]
  },
  {
   "cell_type": "code",
   "execution_count": null,
   "metadata": {},
   "outputs": [],
   "source": []
  },
  {
   "cell_type": "code",
   "execution_count": null,
   "metadata": {},
   "outputs": [],
   "source": []
  }
 ],
 "metadata": {
  "kernelspec": {
   "display_name": "Python 3",
   "language": "python",
   "name": "python3"
  },
  "language_info": {
   "codemirror_mode": {
    "name": "ipython",
    "version": 3
   },
   "file_extension": ".py",
   "mimetype": "text/x-python",
   "name": "python",
   "nbconvert_exporter": "python",
   "pygments_lexer": "ipython3",
   "version": "3.6.5"
  }
 },
 "nbformat": 4,
 "nbformat_minor": 2
}
