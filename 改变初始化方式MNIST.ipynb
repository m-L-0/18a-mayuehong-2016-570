{
 "cells": [
  {
   "cell_type": "code",
   "execution_count": 5,
   "metadata": {},
   "outputs": [],
   "source": [
    "%matplotlib inline\n",
    "\n",
    "import numpy as np\n",
    "from PIL import Image\n",
    "from matplotlib import pyplot as plt\n",
    "\n",
    "import tensorflow as tf\n",
    "from tensorflow.examples.tutorials.mnist import input_data"
   ]
  },
  {
   "cell_type": "code",
   "execution_count": 6,
   "metadata": {},
   "outputs": [
    {
     "name": "stdout",
     "output_type": "stream",
     "text": [
      "Extracting f:/MNIST_data\\train-images-idx3-ubyte.gz\n",
      "Extracting f:/MNIST_data\\train-labels-idx1-ubyte.gz\n",
      "Extracting f:/MNIST_data\\t10k-images-idx3-ubyte.gz\n",
      "Extracting f:/MNIST_data\\t10k-labels-idx1-ubyte.gz\n"
     ]
    }
   ],
   "source": [
    "mnist = input_data.read_data_sets(\"f:/MNIST_data\", one_hot=True)"
   ]
  },
  {
   "cell_type": "code",
   "execution_count": 7,
   "metadata": {},
   "outputs": [
    {
     "name": "stdout",
     "output_type": "stream",
     "text": [
      "step     0, loss 2.4447, acc 0.0994\n",
      "step   500, loss 0.7105, acc 0.8288\n",
      "step  1000, loss 0.3143, acc 0.8755\n",
      "step  1500, loss 0.3752, acc 0.8933\n",
      "step  2000, loss 0.3600, acc 0.9009\n",
      "step  2500, loss 0.3320, acc 0.9065\n",
      "step  3000, loss 0.2500, acc 0.9098\n",
      "step  3500, loss 0.3919, acc 0.9152\n",
      "step  4000, loss 0.2514, acc 0.9175\n",
      "step  4500, loss 0.3044, acc 0.9204\n",
      "step  5000, loss 0.2029, acc 0.9227\n",
      "step  5500, loss 0.3046, acc 0.9237\n",
      "step  6000, loss 0.3394, acc 0.9255\n",
      "step  6500, loss 0.3767, acc 0.9278\n",
      "step  7000, loss 0.2840, acc 0.9275\n",
      "step  7500, loss 0.1268, acc 0.9299\n",
      "step  8000, loss 0.2761, acc 0.9323\n",
      "step  8500, loss 0.1735, acc 0.9342\n",
      "step  9000, loss 0.1605, acc 0.9350\n",
      "step  9500, loss 0.3443, acc 0.9356\n",
      "step 10000, loss 0.0597, acc 0.9362\n",
      "step 10500, loss 0.1349, acc 0.9378\n",
      "step 11000, loss 0.2928, acc 0.9389\n",
      "step 11500, loss 0.0830, acc 0.9407\n",
      "step 12000, loss 0.3866, acc 0.9414\n",
      "step 12500, loss 0.0984, acc 0.9404\n",
      "step 13000, loss 0.0656, acc 0.9446\n",
      "step 13500, loss 0.0746, acc 0.9441\n",
      "step 14000, loss 0.1284, acc 0.9446\n",
      "step 14500, loss 0.2197, acc 0.9452\n",
      "step 15000, loss 0.0944, acc 0.9454\n",
      "step 15500, loss 0.0987, acc 0.9461\n",
      "step 16000, loss 0.1064, acc 0.9495\n",
      "step 16500, loss 0.0885, acc 0.9470\n",
      "step 17000, loss 0.3781, acc 0.9496\n",
      "step 17500, loss 0.0734, acc 0.9502\n",
      "step 18000, loss 0.1059, acc 0.9497\n",
      "step 18500, loss 0.1979, acc 0.9515\n",
      "step 19000, loss 0.1276, acc 0.9495\n",
      "step 19500, loss 0.0964, acc 0.9519\n"
     ]
    }
   ],
   "source": [
    "with tf.Graph().as_default() as g:\n",
    "    # 输入、标记占位符\n",
    "    inputs = tf.placeholder(shape=[None, 784], dtype=tf.float32)\n",
    "    labels = tf.placeholder(shape=[None, 10], dtype=tf.float32)\n",
    "    \n",
    "    \n",
    "    # 创建128个隐藏层神经元参数\n",
    "    hidden_weight = tf.Variable(tf.truncated_normal([784,128],stddev=0.1))\n",
    "    hidden_bias = tf.Variable(tf.zeros([128])+0.1)\n",
    "    # 隐藏层前向传播\n",
    "    hidden_output = tf.nn.relu(tf.matmul(inputs, hidden_weight) + hidden_bias)\n",
    "    \n",
    "    \n",
    "    # 创建输出层10个神经元参数\n",
    "    output_weight = tf.Variable(tf.truncated_normal([128,10],stddev=0.1))\n",
    "    output_bias = tf.Variable(tf.zeros([10])+0.1)\n",
    "    # 输出层前向传播\n",
    "    logits = tf.matmul(hidden_output, output_weight) + output_bias\n",
    "    output = tf.nn.softmax(logits)\n",
    "    \n",
    "    \n",
    "    # 代价函数\n",
    "    loss = tf.reduce_mean(-1 * tf.reduce_sum(\n",
    "        labels * tf.log(output + 1e-7),\n",
    "        axis=1))\n",
    "    \n",
    "    \n",
    "    # 正确率\n",
    "    acc = tf.reduce_mean(\n",
    "        tf.cast(tf.equal(tf.argmax(labels, axis=1), tf.argmax(output, axis=1)),\n",
    "                tf.float32))\n",
    "\n",
    "\n",
    "with tf.Session(graph=g) as sess:\n",
    "    # 定义梯度下降法优化器\n",
    "    optim = tf.train.GradientDescentOptimizer(learning_rate=0.01)\n",
    "    train_op = optim.minimize(loss)\n",
    "    sess.run(tf.global_variables_initializer())\n",
    "    \n",
    "    # 训练模型\n",
    "    for step in range(20000):\n",
    "        batch_images, batch_labels = mnist.train.next_batch(32)\n",
    "        res_loss, _ = sess.run([loss, train_op], feed_dict={\n",
    "            inputs: batch_images,\n",
    "            labels: batch_labels\n",
    "        })\n",
    "        \n",
    "        # 输出代价并验证模型\n",
    "        if step % 500 == 0:\n",
    "            accs = []\n",
    "            for test_step in range(10000 // 32):\n",
    "                batch_images, batch_labels = mnist.test.next_batch(32)\n",
    "                res_acc = sess.run(acc, feed_dict={\n",
    "                    inputs: batch_images,\n",
    "                    labels: batch_labels\n",
    "                })\n",
    "                accs.append(res_acc)\n",
    "            accs = np.mean(accs)\n",
    "            print('step %5d, loss %2.4f, acc %.4f' % (step, res_loss, accs))"
   ]
  },
  {
   "cell_type": "code",
   "execution_count": null,
   "metadata": {},
   "outputs": [],
   "source": []
  }
 ],
 "metadata": {
  "kernelspec": {
   "display_name": "Python 3",
   "language": "python",
   "name": "python3"
  },
  "language_info": {
   "codemirror_mode": {
    "name": "ipython",
    "version": 3
   },
   "file_extension": ".py",
   "mimetype": "text/x-python",
   "name": "python",
   "nbconvert_exporter": "python",
   "pygments_lexer": "ipython3",
   "version": "3.6.5"
  }
 },
 "nbformat": 4,
 "nbformat_minor": 2
}
